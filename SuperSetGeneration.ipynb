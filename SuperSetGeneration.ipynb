{
 "cells": [
  {
   "cell_type": "code",
   "execution_count": 21,
   "id": "69f75762-d0c1-4205-bbae-cf73db5dfb92",
   "metadata": {},
   "outputs": [],
   "source": [
    "import os\n",
    "import os.path\n",
    "from pydub import AudioSegment\n",
    "from random import randrange\n",
    "import math\n",
    "import librosa\n",
    "import librosa.display\n",
    "import numpy as np\n",
    "import matplotlib.pyplot as plt"
   ]
  },
  {
   "cell_type": "code",
   "execution_count": 11,
   "id": "b51e1268-f06b-49fc-b551-62ff8244caae",
   "metadata": {},
   "outputs": [],
   "source": [
    "def fun(directory, num):\n",
    "    \n",
    "    for folder in os.listdir(directory): # genre folders\n",
    "        for file in os.listdir(directory + folder): # audio files in each genre folder\n",
    "            \n",
    "            path = directory + folder + \"/\" + file\n",
    "            \n",
    "            print(path)\n",
    "            \n",
    "            audio = AudioSegment.from_wav(path)\n",
    "            dim = audio.duration_seconds\n",
    "            samps = math.floor(dim/30)\n",
    "            \n",
    "            samp_num = randrange(samps)\n",
    "            t1 = samp_num*30*1000\n",
    "            t2 = t1 + (30*1000)\n",
    "            sample1 = audio[t1:t2]\n",
    "            \n",
    "            new_path = path.replace(\".wav\", \"_01.wav\")\n",
    "            sample1.export(new_path, format=\"wav\")\n",
    "            \n",
    "            samp_num = randrange(samps)\n",
    "            t1 = samp_num*30*1000\n",
    "            t2 = t1 + (30*1000)\n",
    "            sample2 = audio[t1:t2]\n",
    "            \n",
    "            new_path = path.replace(\".wav\", \"_02.wav\")\n",
    "            sample2.export(new_path, format=\"wav\")\n",
    "            "
   ]
  },
  {
   "cell_type": "code",
   "execution_count": 12,
   "id": "3d14972d-aba9-4783-ba7c-e28d239a05b6",
   "metadata": {
    "collapsed": true,
    "jupyter": {
     "outputs_hidden": true
    },
    "tags": []
   },
   "outputs": [
    {
     "name": "stdout",
     "output_type": "stream",
     "text": [
      "super_test/blues/baby_let_me_hold_your_hand.wav\n",
      "super_test/blues/honey_bee.wav\n",
      "super_test/blues/rockin_chair.wav\n",
      "super_test/blues/smooth_sailing.wav\n",
      "super_test/blues/too_young.wav\n",
      "super_test/classical/o_fortuna.wav\n",
      "super_test/classical/symphony_no_5_iv.wav\n",
      "super_test/classical/the_four_seasons_summer.wav\n",
      "super_test/classical/the_nutcracker_v.wav\n",
      "super_test/classical/toccata_and_fugue.wav\n",
      "super_test/country/achy_breaky_heart.wav\n",
      "super_test/country/if_it_makes_you_happy.wav\n",
      "super_test/country/jolene.wav\n",
      "super_test/country/love_wins.wav\n",
      "super_test/country/take_it_from_me.wav\n",
      "super_test/disco/blame_it_on_the_boogie.wav\n",
      "super_test/disco/good_times.wav\n",
      "super_test/disco/i_feel_love.wav\n",
      "super_test/disco/i_will_survive.wav\n",
      "super_test/disco/stain_alive.wav\n",
      "super_test/hiphop/furiously_dangerous.wav\n",
      "super_test/hiphop/gettin_it.wav\n",
      "super_test/hiphop/in_da_club.wav\n",
      "super_test/hiphop/low.wav\n",
      "super_test/hiphop/yeah.wav\n",
      "super_test/jazz/feeling_good.wav\n",
      "super_test/jazz/my_baby_just_cares_for_me.wav\n",
      "super_test/jazz/take_5.wav\n",
      "super_test/jazz/the_dock_of_the_bay.wav\n",
      "super_test/jazz/when_a_man_loves_a_woman.wav\n",
      "super_test/metal/angel_of_death.wav\n",
      "super_test/metal/holy_diver.wav\n",
      "super_test/metal/master_of_puppets.wav\n",
      "super_test/metal/painkiller.wav\n",
      "super_test/metal/war_pigs.wav\n",
      "super_test/pop/a_thousand_miles.wav\n",
      "super_test/pop/i_love_you.wav\n",
      "super_test/pop/replay.wav\n",
      "super_test/pop/shallow.wav\n",
      "super_test/pop/wrecking_ball.wav\n",
      "super_test/reggae/in_the_summertime.wav\n",
      "super_test/reggae/mellow_mood.wav\n",
      "super_test/reggae/tomorrow_people.wav\n",
      "super_test/reggae/uptown_top_ranking.wav\n",
      "super_test/reggae/wonderful_world_beautiful_people.wav\n",
      "super_test/rock/alibi.wav\n",
      "super_test/rock/another_brick_in_the_wall.wav\n",
      "super_test/rock/back_in_black.wav\n",
      "super_test/rock/numb.wav\n",
      "super_test/rock/we_will_rock_you.wav\n"
     ]
    }
   ],
   "source": [
    "fun('super_test/', 10)"
   ]
  },
  {
   "cell_type": "code",
   "execution_count": 16,
   "id": "86a3867c-1f2d-4229-943b-e8beb3c6e953",
   "metadata": {},
   "outputs": [],
   "source": [
    "def save_spectrogram(mel, path, warp):\n",
    "    \n",
    "    if warp:\n",
    "        log_mel = librosa.amplitude_to_db(mel[0, :, :, 0].numpy(), ref=np.max)\n",
    "    else:\n",
    "        log_mel = librosa.amplitude_to_db(mel, ref=np.max)\n",
    "    \n",
    "    plt.figure()\n",
    "    plt.axis('off')\n",
    "    \n",
    "    librosa.display.specshow(log_mel)\n",
    "    \n",
    "    plt.savefig(path)\n",
    "    plt.close()"
   ]
  },
  {
   "cell_type": "code",
   "execution_count": 14,
   "id": "99fe1c6a-37ba-427d-9f08-0cdaeb0503ae",
   "metadata": {},
   "outputs": [],
   "source": [
    "def fun2(src_dir, dest_dir, num_classes):\n",
    "    \n",
    "    if not os.path.exists(dest_dir):\n",
    "        try: \n",
    "            os.mkdir(dest_dir) \n",
    "        except OSError as error: \n",
    "            print(error)  \n",
    "    \n",
    "    for folder in os.listdir(src_dir): # genre folders\n",
    "        for file in os.listdir(src_dir + folder): # songs in each genre folder\n",
    "            \n",
    "            if not os.path.exists(dest_dir + folder):\n",
    "                try: \n",
    "                    os.mkdir(dest_dir + folder) \n",
    "                except OSError as error: \n",
    "                    print(error)  \n",
    "           \n",
    "            path = src_dir + folder + \"/\" + file\n",
    "            filename = file.replace('.wav', '')\n",
    "            #filename = filename.replace('.', '')\n",
    "\n",
    "            rec, sr = librosa.load(path, sr=44100)\n",
    "\n",
    "            # Original MS\n",
    "            save_path = dest_dir + folder + \"/\" + filename + \".png\"  \n",
    "            mel = librosa.feature.melspectrogram(y=rec, sr=sr, n_fft=2048, hop_length=512, n_mels=64, fmax=8000)\n",
    "            save_spectrogram(mel, save_path, False)"
   ]
  },
  {
   "cell_type": "code",
   "execution_count": 22,
   "id": "72ca4724-cc68-41a3-bfc6-6281b463a228",
   "metadata": {},
   "outputs": [],
   "source": [
    "fun2('super_test/', 'TSG/', 10)"
   ]
  },
  {
   "cell_type": "code",
   "execution_count": null,
   "id": "582f743c-53f3-4cfc-9340-6ff431966fff",
   "metadata": {},
   "outputs": [],
   "source": []
  }
 ],
 "metadata": {
  "kernelspec": {
   "display_name": "Python 3 (ipykernel)",
   "language": "python",
   "name": "python3"
  },
  "language_info": {
   "codemirror_mode": {
    "name": "ipython",
    "version": 3
   },
   "file_extension": ".py",
   "mimetype": "text/x-python",
   "name": "python",
   "nbconvert_exporter": "python",
   "pygments_lexer": "ipython3",
   "version": "3.9.13"
  }
 },
 "nbformat": 4,
 "nbformat_minor": 5
}
